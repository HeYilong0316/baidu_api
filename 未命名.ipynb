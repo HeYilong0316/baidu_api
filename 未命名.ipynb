{
 "cells": [
  {
   "cell_type": "code",
   "execution_count": 4,
   "metadata": {},
   "outputs": [],
   "source": [
    "import json\n",
    "import requests\n",
    "import base64\n",
    "\n",
    "\n",
    "class OcrBase(object):\n",
    "    api_url = \"https://aip.baidubce.com/rest/2.0/ocr/v1/general_basic\"\n",
    "    headers = {\"Content-Type\":\"application/x-www-form-urlencoded\"}    \n",
    "    params = {\"access_token\": \"24.2aed020ba23b9649a25863c12633827f.2592000.1596556411.282335-18230408\"}\n",
    "\n",
    "    def run(self, data=None, data_path=None):\n",
    "        assert data or data_path, [data, data_path]\n",
    "        \n",
    "        params = getattr(self, \"params\", None)\n",
    "        data = self.image2base64(data, data_path)\n",
    "        data = {\"image\": data}        \n",
    "        try:\n",
    "            r = requests.post(self.api_url, headers=self.headers, data=data, params=params)\n",
    "            try:\n",
    "                return r.json()\n",
    "            except Exception as e:\n",
    "                print(r.text)\n",
    "                raise e\n",
    "        except Exception as e:\n",
    "            # print(r.text)\n",
    "            raise e\n",
    "\n",
    "    @classmethod\n",
    "    def image2base64(self, image=None, image_path=None):\n",
    "        assert image or image_path, [image, image_path]\n",
    "        if not image and image_path:\n",
    "            with open(image_path,\"rb\") as f:\n",
    "                image = f.read()\n",
    "        base64_data = base64.b64encode(image)\n",
    "        return base64_data.decode(\"utf8\")\n",
    "\n",
    " "
   ]
  },
  {
   "cell_type": "code",
   "execution_count": 5,
   "metadata": {},
   "outputs": [],
   "source": [
    "ocr = OcrBase()"
   ]
  },
  {
   "cell_type": "code",
   "execution_count": 6,
   "metadata": {},
   "outputs": [
    {
     "data": {
      "text/plain": [
       "{'log_id': 1341134120181001381,\n",
       " 'words_result_num': 18,\n",
       " 'words_result': [{'words': '出院带药处方单'},\n",
       "  {'words': '姓名'},\n",
       "  {'words': '性射:女年龄:38岁科别'},\n",
       "  {'words': '号:'},\n",
       "  {'words': '地址或电话'},\n",
       "  {'words': '临床诊断'},\n",
       "  {'words': '复方血栓通胶囊【1粒*63粒】'},\n",
       "  {'words': '复方血栓胶3粒'},\n",
       "  {'words': 'P'},\n",
       "  {'words': '明目地黄胶囊【0.5g*63粒】'},\n",
       "  {'words': '明目地黄胶囊1,5g'},\n",
       "  {'words': '倍他胡萝卜素软胶囊【15mg*21粒倍他胡萝卜素1gP0'},\n",
       "  {'words': '软胶囊'},\n",
       "  {'words': '妥布霉素地塞米松滴眼液(1k)【典必殊眼水ml滴'},\n",
       "  {'words': '5m1*1支】'},\n",
       "  {'words': '双氯芬酸钠滴眼液【5m*1支】双氧芬酸钠滴l滴双口'},\n",
       "  {'words': '服液'},\n",
       "  {'words': '杭州网'}]}"
      ]
     },
     "execution_count": 6,
     "metadata": {},
     "output_type": "execute_result"
    }
   ],
   "source": [
    "ocr.run(data_path=\"images/u=1900066072,3078695125&fm=26&gp=0.jpg\")"
   ]
  },
  {
   "cell_type": "code",
   "execution_count": 8,
   "metadata": {},
   "outputs": [
    {
     "data": {
      "text/plain": [
       "{'log_id': 4317024588699831301,\n",
       " 'words_result_num': 26,\n",
       " 'words_result': [{'words': '药品明细表'},\n",
       "  {'words': '领药3217科别订诊呼吸科'},\n",
       "  {'words': '性别'},\n",
       "  {'words': '日规016-82513:40:38'},\n",
       "  {'words': '年龄1'},\n",
       "  {'words': '门诊号'},\n",
       "  {'words': '02189639'},\n",
       "  {'words': '规格'},\n",
       "  {'words': '⑩区金额用法贮二'},\n",
       "  {'words': '●.13)红液(无)1043支35.0盒107.0一日三次每次支'},\n",
       "  {'words': '1%)银黄含片'},\n",
       "  {'words': '650mg+32片8.802盒'},\n",
       "  {'words': '17.60服一日三次每次2片'},\n",
       "  {'words': '凉'},\n",
       "  {'words': '乙10%)头烯分散片'},\n",
       "  {'words': '250mg+6片35.105盒'},\n",
       "  {'words': '175.50服一日二次每次2片'},\n",
       "  {'words': '凉避光'},\n",
       "  {'words': '103)苏150m(罗红霉素胶|150mg*粒19.802盒'},\n",
       "  {'words': '39.604服(餐后)一日二次每次1粒温避光'},\n",
       "  {'words': '10%)盒水宝囊'},\n",
       "  {'words': '3041.02504=日三二次次放'},\n",
       "  {'words': '请核对药名和数量,当面点清。'},\n",
       "  {'words': '药品一经发出,不得退换。第1页,共1页'},\n",
       "  {'words': '合计:60青年健康新视点'},\n",
       "  {'words': '用药问题或另需说明书请咨询药师。'}]}"
      ]
     },
     "execution_count": 8,
     "metadata": {},
     "output_type": "execute_result"
    }
   ],
   "source": [
    "ocr.run(data_path=\"images/timg.jpeg\")"
   ]
  },
  {
   "cell_type": "code",
   "execution_count": 10,
   "metadata": {},
   "outputs": [
    {
     "data": {
      "text/plain": [
       "{'log_id': 103401451057678053,\n",
       " 'words_result_num': 18,\n",
       " 'words_result': [{'words': '中日友好医院处方笺'},\n",
       "  {'words': '西药'},\n",
       "  {'words': '打苹时同,20155121103:4'},\n",
       "  {'words': '定点疗机构码。01100'},\n",
       "  {'words': '科别,柴床戒烟中心戒帮(0的01'},\n",
       "  {'words': '处方号3ep药房门药'},\n",
       "  {'words': '挂号流水号:2050512215'},\n",
       "  {'words': '年游145炭'},\n",
       "  {'words': '单位(住址'},\n",
       "  {'words': '酒石酸尼克兰片(畅0,5ngx11片和1盒/口服1片每天一次白天'},\n",
       "  {'words': '过敏试验'},\n",
       "  {'words': '2015年5月12H'},\n",
       "  {'words': '医签名签章》肖丹'},\n",
       "  {'words': '审核/两配签名(签章)'},\n",
       "  {'words': '核对/发药签名(签常'},\n",
       "  {'words': '长得品正方业品否国际医据门:全国热成'},\n",
       "  {'words': '提示:吸烟对健康'},\n",
       "  {'words': 'Chinanews.com'}]}"
      ]
     },
     "execution_count": 10,
     "metadata": {},
     "output_type": "execute_result"
    }
   ],
   "source": [
    "ocr.run(data_path=\"images/timg (1).jpeg\")"
   ]
  },
  {
   "cell_type": "code",
   "execution_count": null,
   "metadata": {},
   "outputs": [],
   "source": [
    "# encoding:utf-8\n",
    "import requests \n",
    "AK = \"jg6Vs6XxfidbjXIbYoYrTCLH\"\n",
    "SK = \"xWzVoK86Qnmv5NxEf8oKXvxoFmxW7P1s\"\n",
    "\n",
    "# client_id 为官网获取的AK， client_secret 为官网获取的SK\n",
    "host = 'https://aip.baidubce.com/oauth/2.0/token?grant_type=client_credentials&client_id={AK}&client_secret={SK}'\n",
    "host = host.format(AK=AK, SK=SK)\n",
    "response = requests.get(host)\n",
    "if response:\n",
    "    print(response.json()[\"access_token\"])"
   ]
  },
  {
   "cell_type": "code",
   "execution_count": null,
   "metadata": {},
   "outputs": [],
   "source": [
    "# "
   ]
  }
 ],
 "metadata": {
  "kernelspec": {
   "display_name": "Python 3",
   "language": "python",
   "name": "python3"
  },
  "language_info": {
   "codemirror_mode": {
    "name": "ipython",
    "version": 3
   },
   "file_extension": ".py",
   "mimetype": "text/x-python",
   "name": "python",
   "nbconvert_exporter": "python",
   "pygments_lexer": "ipython3",
   "version": "3.7.5"
  }
 },
 "nbformat": 4,
 "nbformat_minor": 2
}
