{
 "cells": [
  {
   "cell_type": "code",
   "execution_count": 22,
   "metadata": {},
   "outputs": [],
   "source": [
    "import json\n",
    "import requests\n",
    "import base64\n",
    "\n",
    "\n",
    "class OcrBase(object):\n",
    "    api_url = \"https://aip.baidubce.com/rest/2.0/ocr/v1/general\"\n",
    "    headers = {\"Content-Type\":\"application/x-www-form-urlencoded\"}    \n",
    "    params = {\"access_token\": \"24.2aed020ba23b9649a25863c12633827f.2592000.1596556411.282335-18230408\"}\n",
    "\n",
    "    def run(self, data=None, data_path=None):\n",
    "        assert data or data_path, [data, data_path]\n",
    "        \n",
    "        params = getattr(self, \"params\", None)\n",
    "        data = self.image2base64(data, data_path)\n",
    "        data = {\"image\": data}        \n",
    "        try:\n",
    "            r = requests.post(self.api_url, headers=self.headers, data=data, params=params)\n",
    "            try:\n",
    "                return r.json()\n",
    "            except Exception as e:\n",
    "                print(r.text)\n",
    "                raise e\n",
    "        except Exception as e:\n",
    "            # print(r.text)\n",
    "            raise e\n",
    "\n",
    "    @classmethod\n",
    "    def image2base64(self, image=None, image_path=None):\n",
    "        assert image or image_path, [image, image_path]\n",
    "        if not image and image_path:\n",
    "            with open(image_path,\"rb\") as f:\n",
    "                image = f.read()\n",
    "        base64_data = base64.b64encode(image)\n",
    "        return base64_data.decode(\"utf8\")\n",
    "\n",
    " "
   ]
  },
  {
   "cell_type": "code",
   "execution_count": 23,
   "metadata": {},
   "outputs": [],
   "source": [
    "ocr = OcrBase()"
   ]
  },
  {
   "cell_type": "code",
   "execution_count": 24,
   "metadata": {},
   "outputs": [
    {
     "data": {
      "text/plain": [
       "{'log_id': 7056614357621288965,\n",
       " 'words_result_num': 18,\n",
       " 'words_result': [{'location': {'width': 115,\n",
       "    'top': 20,\n",
       "    'left': 163,\n",
       "    'height': 25},\n",
       "   'words': '出院带药处方单'},\n",
       "  {'location': {'width': 24, 'top': 45, 'left': 6, 'height': 11},\n",
       "   'words': '姓名'},\n",
       "  {'location': {'width': 176, 'top': 46, 'left': 105, 'height': 15},\n",
       "   'words': '性射:女年龄:38岁科别'},\n",
       "  {'location': {'width': 17, 'top': 65, 'left': 14, 'height': 14},\n",
       "   'words': '号:'},\n",
       "  {'location': {'width': 84, 'top': 63, 'left': 77, 'height': 18},\n",
       "   'words': '地址或电话'},\n",
       "  {'location': {'width': 42, 'top': 82, 'left': 5, 'height': 12},\n",
       "   'words': '临床诊断'},\n",
       "  {'location': {'width': 147, 'top': 104, 'left': 6, 'height': 14},\n",
       "   'words': '复方血栓通胶囊【1粒*63粒】'},\n",
       "  {'location': {'width': 85, 'top': 98, 'left': 183, 'height': 19},\n",
       "   'words': '复方血栓胶3粒'},\n",
       "  {'location': {'width': 8, 'top': 107, 'left': 289, 'height': 10},\n",
       "   'words': 'P'},\n",
       "  {'location': {'width': 142, 'top': 131, 'left': 7, 'height': 14},\n",
       "   'words': '明目地黄胶囊【0.5g*63粒】'},\n",
       "  {'location': {'width': 88, 'top': 130, 'left': 181, 'height': 13},\n",
       "   'words': '明目地黄胶囊1,5g'},\n",
       "  {'location': {'width': 291, 'top': 151, 'left': 8, 'height': 18},\n",
       "   'words': '倍他胡萝卜素软胶囊【15mg*21粒倍他胡萝卜素1gP0'},\n",
       "  {'location': {'width': 29, 'top': 163, 'left': 183, 'height': 11},\n",
       "   'words': '软胶囊'},\n",
       "  {'location': {'width': 281, 'top': 178, 'left': 11, 'height': 17},\n",
       "   'words': '妥布霉素地塞米松滴眼液(1k)【典必殊眼水ml滴'},\n",
       "  {'location': {'width': 49, 'top': 192, 'left': 12, 'height': 13},\n",
       "   'words': '5m1*1支】'},\n",
       "  {'location': {'width': 285, 'top': 201, 'left': 14, 'height': 26},\n",
       "   'words': '双氯芬酸钠滴眼液【5m*1支】双氧芬酸钠滴l滴双口'},\n",
       "  {'location': {'width': 18, 'top': 214, 'left': 180, 'height': 8},\n",
       "   'words': '服液'},\n",
       "  {'location': {'width': 95, 'top': 302, 'left': 204, 'height': 34},\n",
       "   'words': '杭州网'}]}"
      ]
     },
     "execution_count": 24,
     "metadata": {},
     "output_type": "execute_result"
    }
   ],
   "source": [
    "ocr.run(data_path=\"images/u=1900066072,3078695125&fm=26&gp=0.jpg\")"
   ]
  },
  {
   "cell_type": "code",
   "execution_count": 25,
   "metadata": {},
   "outputs": [
    {
     "data": {
      "text/plain": [
       "{'log_id': 5028286654720400709,\n",
       " 'words_result_num': 26,\n",
       " 'words_result': [{'location': {'width': 215,\n",
       "    'top': 285,\n",
       "    'left': 524,\n",
       "    'height': 44},\n",
       "   'words': '药品明细表'},\n",
       "  {'location': {'width': 397, 'top': 321, 'left': 285, 'height': 71},\n",
       "   'words': '领药3217科别订诊呼吸科'},\n",
       "  {'location': {'width': 92, 'top': 378, 'left': 285, 'height': 28},\n",
       "   'words': '性别'},\n",
       "  {'location': {'width': 324, 'top': 349, 'left': 760, 'height': 53},\n",
       "   'words': '日规016-82513:40:38'},\n",
       "  {'location': {'width': 82, 'top': 386, 'left': 489, 'height': 37},\n",
       "   'words': '年龄1'},\n",
       "  {'location': {'width': 73, 'top': 393, 'left': 759, 'height': 29},\n",
       "   'words': '门诊号'},\n",
       "  {'location': {'width': 122, 'top': 405, 'left': 829, 'height': 28},\n",
       "   'words': '02189639'},\n",
       "  {'location': {'width': 75, 'top': 435, 'left': 399, 'height': 23},\n",
       "   'words': '规格'},\n",
       "  {'location': {'width': 661, 'top': 433, 'left': 568, 'height': 54},\n",
       "   'words': '⑩区金额用法贮二'},\n",
       "  {'location': {'width': 981, 'top': 466, 'left': 2, 'height': 69},\n",
       "   'words': '●.13)红液(无)1043支35.0盒107.0一日三次每次支'},\n",
       "  {'location': {'width': 167, 'top': 525, 'left': 35, 'height': 30},\n",
       "   'words': '1%)银黄含片'},\n",
       "  {'location': {'width': 298, 'top': 536, 'left': 371, 'height': 33},\n",
       "   'words': '650mg+32片8.802盒'},\n",
       "  {'location': {'width': 261, 'top': 543, 'left': 718, 'height': 35},\n",
       "   'words': '17.60服一日三次每次2片'},\n",
       "  {'location': {'width': 44, 'top': 554, 'left': 1054, 'height': 23},\n",
       "   'words': '凉'},\n",
       "  {'location': {'width': 228, 'top': 575, 'left': 40, 'height': 37},\n",
       "   'words': '乙10%)头烯分散片'},\n",
       "  {'location': {'width': 288, 'top': 585, 'left': 378, 'height': 35},\n",
       "   'words': '250mg+6片35.105盒'},\n",
       "  {'location': {'width': 272, 'top': 597, 'left': 708, 'height': 31},\n",
       "   'words': '175.50服一日二次每次2片'},\n",
       "  {'location': {'width': 71, 'top': 603, 'left': 1074, 'height': 28},\n",
       "   'words': '凉避光'},\n",
       "  {'location': {'width': 670, 'top': 626, 'left': 0, 'height': 51},\n",
       "   'words': '103)苏150m(罗红霉素胶|150mg*粒19.802盒'},\n",
       "  {'location': {'width': 434, 'top': 641, 'left': 715, 'height': 45},\n",
       "   'words': '39.604服(餐后)一日二次每次1粒温避光'},\n",
       "  {'location': {'width': 185, 'top': 685, 'left': 34, 'height': 31},\n",
       "   'words': '10%)盒水宝囊'},\n",
       "  {'location': {'width': 752, 'top': 682, 'left': 359, 'height': 52},\n",
       "   'words': '3041.02504=日三二次次放'},\n",
       "  {'location': {'width': 361, 'top': 846, 'left': 56, 'height': 32},\n",
       "   'words': '请核对药名和数量,当面点清。'},\n",
       "  {'location': {'width': 523, 'top': 873, 'left': 54, 'height': 34},\n",
       "   'words': '药品一经发出,不得退换。第1页,共1页'},\n",
       "  {'location': {'width': 631, 'top': 860, 'left': 608, 'height': 58},\n",
       "   'words': '合计:60青年健康新视点'},\n",
       "  {'location': {'width': 421, 'top': 906, 'left': 52, 'height': 34},\n",
       "   'words': '用药问题或另需说明书请咨询药师。'}]}"
      ]
     },
     "execution_count": 25,
     "metadata": {},
     "output_type": "execute_result"
    }
   ],
   "source": [
    "ocr.run(data_path=\"images/timg.jpeg\")"
   ]
  },
  {
   "cell_type": "code",
   "execution_count": 26,
   "metadata": {},
   "outputs": [
    {
     "data": {
      "text/plain": [
       "{'log_id': 2440533157785750917,\n",
       " 'words_result_num': 16,\n",
       " 'words_result': [{'location': {'width': 277,\n",
       "    'top': 8,\n",
       "    'left': 150,\n",
       "    'height': 36},\n",
       "   'words': '门诊号20140610011200患者编号求00064'},\n",
       "  {'location': {'width': 82, 'top': 26, 'left': 150, 'height': 22},\n",
       "   'words': '姓名:张鑫'},\n",
       "  {'location': {'width': 104, 'top': 45, 'left': 152, 'height': 20},\n",
       "   'words': '开方医师郭俊梅'},\n",
       "  {'location': {'width': 104, 'top': 34, 'left': 322, 'height': 26},\n",
       "   'words': '性别:女年龄25岁'},\n",
       "  {'location': {'width': 85, 'top': 52, 'left': 324, 'height': 20},\n",
       "   'words': '开方科室归产科'},\n",
       "  {'location': {'width': 62, 'top': 73, 'left': 153, 'height': 18},\n",
       "   'words': '临床诊断'},\n",
       "  {'location': {'width': 63, 'top': 102, 'left': 154, 'height': 17},\n",
       "   'words': '药品名称'},\n",
       "  {'location': {'width': 80, 'top': 104, 'left': 338, 'height': 16},\n",
       "   'words': '数量单位规格'},\n",
       "  {'location': {'width': 286, 'top': 121, 'left': 156, 'height': 17},\n",
       "   'words': '硝呋太尔制霉素阴道软胶囊6粒(05g2万'},\n",
       "  {'location': {'width': 104, 'top': 139, 'left': 156, 'height': 20},\n",
       "   'words': '乳酸菌阴道胶囊'},\n",
       "  {'location': {'width': 97, 'top': 138, 'left': 343, 'height': 16},\n",
       "   'words': '14粒0.252g214'},\n",
       "  {'location': {'width': 121, 'top': 277, 'left': 157, 'height': 39},\n",
       "   'words': '医师签字:'},\n",
       "  {'location': {'width': 87, 'top': 267, 'left': 261, 'height': 39},\n",
       "   'words': '少'},\n",
       "  {'location': {'width': 41, 'top': 267, 'left': 406, 'height': 17},\n",
       "   'words': '核(调配'},\n",
       "  {'location': {'width': 49, 'top': 322, 'left': 180, 'height': 15},\n",
       "   'words': '相示'},\n",
       "  {'location': {'width': 70, 'top': 313, 'left': 364, 'height': 24},\n",
       "   'words': '清3处方当'}]}"
      ]
     },
     "execution_count": 26,
     "metadata": {},
     "output_type": "execute_result"
    }
   ],
   "source": [
    "ocr.run(data_path=\"images/timg (2).jpeg\")"
   ]
  },
  {
   "cell_type": "code",
   "execution_count": null,
   "metadata": {},
   "outputs": [],
   "source": [
    "# encoding:utf-8\n",
    "import requests \n",
    "AK = \"jg6Vs6XxfidbjXIbYoYrTCLH\"\n",
    "SK = \"xWzVoK86Qnmv5NxEf8oKXvxoFmxW7P1s\"\n",
    "\n",
    "# client_id 为官网获取的AK， client_secret 为官网获取的SK\n",
    "host = 'https://aip.baidubce.com/oauth/2.0/token?grant_type=client_credentials&client_id={AK}&client_secret={SK}'\n",
    "host = host.format(AK=AK, SK=SK)\n",
    "response = requests.get(host)\n",
    "if response:\n",
    "    print(response.json()[\"access_token\"])"
   ]
  },
  {
   "cell_type": "code",
   "execution_count": null,
   "metadata": {},
   "outputs": [],
   "source": [
    "# "
   ]
  }
 ],
 "metadata": {
  "kernelspec": {
   "display_name": "Python 3",
   "language": "python",
   "name": "python3"
  },
  "language_info": {
   "codemirror_mode": {
    "name": "ipython",
    "version": 3
   },
   "file_extension": ".py",
   "mimetype": "text/x-python",
   "name": "python",
   "nbconvert_exporter": "python",
   "pygments_lexer": "ipython3",
   "version": "3.7.5"
  }
 },
 "nbformat": 4,
 "nbformat_minor": 2
}
